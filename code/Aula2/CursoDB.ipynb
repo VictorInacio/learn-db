{
  "cells": [
    {
      "cell_type": "code",
      "execution_count": 2,
      "metadata": {
        "id": "xN7Jah9Ev1G6"
      },
      "outputs": [],
      "source": [
        "import sqlite3"
      ]
    },
    {
      "cell_type": "code",
      "execution_count": 3,
      "metadata": {
        "id": "vPYRVxcPv79h"
      },
      "outputs": [
        {
          "name": "stdout",
          "output_type": "stream",
          "text": [
            "All persons:\n",
            "(1, 'Alice', 30)\n",
            "(2, 'Bob', 25)\n",
            "(3, 'Alice', 30)\n",
            "(4, 'Bob', 25)\n"
          ]
        }
      ],
      "source": [
        "conn = sqlite3.connect('example.db')\n",
        "cursor = conn.cursor()\n",
        "\n",
        "# Create table\n",
        "cursor.execute('''CREATE TABLE IF NOT EXISTS person\n",
        "                  (id INTEGER PRIMARY KEY, name TEXT, age INTEGER)''')\n",
        "\n",
        "# Insert sample data\n",
        "cursor.execute(\"INSERT INTO person (name, age) VALUES ('Alice', 30)\")\n",
        "cursor.execute(\"INSERT INTO person (name, age) VALUES ('Bob', 25)\")\n",
        "\n",
        "# Commit the changes\n",
        "conn.commit()\n",
        "\n",
        "# Selecting all persons\n",
        "cursor.execute(\"SELECT * FROM person\")\n",
        "print(\"All persons:\")\n",
        "for row in cursor.fetchall():\n",
        "    print(row)\n",
        "\n",
        "# Close the connection\n",
        "conn.close()"
      ]
    }
  ],
  "metadata": {
    "colab": {
      "provenance": []
    },
    "kernelspec": {
      "display_name": "Python 3",
      "name": "python3"
    },
    "language_info": {
      "codemirror_mode": {
        "name": "ipython",
        "version": 3
      },
      "file_extension": ".py",
      "mimetype": "text/x-python",
      "name": "python",
      "nbconvert_exporter": "python",
      "pygments_lexer": "ipython3",
      "version": "3.9.6"
    }
  },
  "nbformat": 4,
  "nbformat_minor": 0
}
